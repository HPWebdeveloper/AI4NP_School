{
  "nbformat": 4,
  "nbformat_minor": 0,
  "metadata": {
    "colab": {
      "name": "HO.ipynb",
      "provenance": [],
      "collapsed_sections": [],
      "authorship_tag": "ABX9TyMnc3pnJnYwEDkYlp1is/fH",
      "include_colab_link": true
    },
    "kernelspec": {
      "name": "python3",
      "display_name": "Python 3"
    }
  },
  "cells": [
    {
      "cell_type": "markdown",
      "metadata": {
        "id": "view-in-github",
        "colab_type": "text"
      },
      "source": [
        "<a href=\"https://colab.research.google.com/github/coreyjadams/AI4NP_School/blob/main/HO_analytic_derivatives.ipynb\" target=\"_parent\"><img src=\"https://colab.research.google.com/assets/colab-badge.svg\" alt=\"Open In Colab\"/></a>"
      ]
    },
    {
      "cell_type": "markdown",
      "metadata": {
        "id": "lyYZggEgoZ8F"
      },
      "source": [
        "Here we compute the ground-state of the $ndim$-dimensional quantum harmonic oscillator for a system of $npart$ particles. The Hamiltonian of the system reads:\n",
        "\n",
        "$$ H = -\\frac{1}{2m} \\sum_{i=1}^{npart} \\vec{\\nabla}_i^2 + \\frac{m \\omega^2}{2}\\sum_{i=1}^{npart} \\vec{x}_i^2 $$\n",
        "\n",
        "For simplicity, we take $m=1$ and $\\omega=1$. According to the variational principle of quantum mechanics, for any trial wave function $|\\psi_T\\rangle$,\n",
        "\n",
        "$$ \\langle \\psi_T | H | \\psi_T \\rangle ~ \\ge ~ E_0 = \\frac{1}{2} ndim * npart $$\n",
        "\n",
        "In this notebook, we assume a trial wave function of the exponential form\n",
        "\n",
        "$$ \\langle x | \\psi_T \\rangle = \\psi_T(x) = \\exp \\left(-\\alpha \\sum_{i=1}^{npart} \\vec{x}_i^2 \\right)$$\n",
        "where the exact ground state is recovered for $\\alpha = 1/2$."
      ]
    },
    {
      "cell_type": "code",
      "metadata": {
        "id": "rQBcqnMKoIln"
      },
      "source": [
        "# Load the libraries that we need for this notebook\n",
        "import numpy as np\n",
        "from matplotlib import pyplot as plt\n",
        "from mpl_toolkits import mplot3d\n",
        "import matplotlib.pyplot as plt\n",
        "import matplotlib.gridspec as gridspec\n",
        "from IPython.display import display, clear_output"
      ],
      "execution_count": null,
      "outputs": []
    },
    {
      "cell_type": "code",
      "metadata": {
        "id": "iy-zay5cxKkf"
      },
      "source": [
        "class Wavefunction(object):\n",
        "    \"\"\"Create a simple wave function in ndim dimensions \n",
        "       and for npart particles\n",
        "       psi(x) = exp(- alpha * sum_i x_i^2)\n",
        "    \"\"\"\n",
        "    def __init__(self, ndim : int, npart : int):\n",
        "        self.ndim = ndim\n",
        "        self.npart = npart\n",
        "\n",
        "    def call(self, alpha, inputs):\n",
        "        psi = - alpha * np.sum(inputs**2, axis=(1,2))\n",
        "        return psi"
      ],
      "execution_count": 52,
      "outputs": []
    },
    {
      "cell_type": "code",
      "metadata": {
        "id": "SCUY_gYb7cbv"
      },
      "source": [
        "class Hamiltonian(object):\n",
        "    \"\"\"Expectation values of the kinetic and potential energies of \n",
        "       a collection of independent harmonic oscillators.\n",
        "    \"\"\"\n",
        "    def __init__(self, ndim : int, npart : int, wavefunction : callable):\n",
        "       self.ndim = ndim\n",
        "       self.npart = npart\n",
        "       self.wavefunction = wavefunction\n",
        "\n",
        "    def potential (self, x):\n",
        "        \"\"\" The HO oscillator potential is given by \n",
        "        V = <x|V|psi> / <x|psi> = 1/2 sum_i x_i^2\n",
        "        \"\"\"\n",
        "        pe = 0.5 * np.sum(x**2, axis=(1,2))\n",
        "        return pe\n",
        "\n",
        "    def kinetic (self, alpha, x):\n",
        "        \"\"\" For the simple wave function that we consider \n",
        "        psi(x) = exp(- alpha * sum_i x_i^2), the kinetic \n",
        "        energy can be computed analytically:  \n",
        "        T = <x|T|psi> / <x|psi> = 1/2 \\sum_i (2 alpha - 4 * alpha**2 * x_i^2 )\n",
        "          = \\sum_i (alpha - 2 * alpha**2 * x_i^2 )\n",
        "        \"\"\"\n",
        "        ke = np.sum( alpha * np.ones_like(x) - 2 * alpha**2 * x**2, axis=(1,2))\n",
        "        return ke\n",
        "\n",
        "    def energy (self, alpha, inputs):\n",
        "        \"\"\" Sum of the kinetic and the potential energy \"\"\"\n",
        "        ke = self.kinetic(alpha, inputs)\n",
        "        pe = self.potential(inputs)\n",
        "        en = ke + pe\n",
        "        return ke, pe, en"
      ],
      "execution_count": 53,
      "outputs": []
    },
    {
      "cell_type": "code",
      "metadata": {
        "id": "ReqTewSvKKue"
      },
      "source": [
        "class Metropolis(object):\n",
        "    \"\"\"Metropolis Sampler in N dimension\n",
        "\n",
        "    Sample from N-D coordinates, using some initial probability distribution\n",
        "\n",
        "    \"\"\"\n",
        "    def __init__(self,   \n",
        "          nwalk : int, \n",
        "          npart : int,\n",
        "          ndim : int,\n",
        "          neq : int, \n",
        "          nav : int, \n",
        "          nvoid : int, \n",
        "          sig : float,\n",
        "          sig_i : float,\n",
        "          wavefunction : callable):\n",
        "\n",
        "          self.nwalk = nwalk \n",
        "          self.npart = npart\n",
        "          self.ndim = ndim\n",
        "          self.neq = neq\n",
        "          self.nav = nav\n",
        "          self.nvoid = nvoid\n",
        "          self.sig = sig\n",
        "          self.sig_i = sig_i\n",
        "          self.wavefunction = wavefunction\n",
        "\n",
        "# Function that performs nvoid Metropolis steps\n",
        "    def step(self, alpha, x_o):\n",
        "        for i in range(self.nvoid):\n",
        "            log_wpsi_o = self.wavefunction.call(alpha, x_o)\n",
        "            x_n = x_o + self.sig * np.random.normal(size=[self.nwalk, self.npart, self.ndim])\n",
        "            log_wpsi_n = self.wavefunction.call(alpha, x_n)\n",
        "            prob = np.exp( 2 * ( log_wpsi_n - log_wpsi_o ) )\n",
        "            accept = np.greater(prob, np.random.uniform(size=[self.nwalk]))\n",
        "            x_o = np.where(accept.reshape([self.nwalk,1,1]), x_n, x_o)\n",
        "            acc_o = accept.astype('float64')\n",
        "        return x_o, acc_o\n",
        "\n",
        "# Function that perform the full Metropolis walk and returns the path and the acceptance\n",
        "    def walk(self, alpha):\n",
        "        x_o = self.sig_i * np.random.normal(size=[self.nwalk, self.npart, self.ndim])\n",
        "        for i in range (neq): \n",
        "            x_o, acc_o = self.step(alpha, x_o)\n",
        "        x_s = []\n",
        "        acc_s = []\n",
        "        for i in range (self.nav): \n",
        "            x_o, acc_o = self.step(alpha, x_o)\n",
        "            x_s.append(x_o)\n",
        "            acc_s.append(acc_o)\n",
        "        x_s = np.concatenate(x_s)\n",
        "        acc_s = np.concatenate(acc_s)\n",
        "        return x_s, acc_s "
      ],
      "execution_count": 54,
      "outputs": []
    },
    {
      "cell_type": "code",
      "metadata": {
        "id": "N1z8mRn0bPYl"
      },
      "source": [
        "# Define the function that computes the average and the standard deviation of each observables\n",
        "def estimator(observable):\n",
        "    average = np.mean(observable)\n",
        "    average_2 = np.mean(observable**2)\n",
        "    error = np.sqrt(average_2 - average**2) / np.sqrt(observable.shape[0]-1) \n",
        "    return average, error"
      ],
      "execution_count": 56,
      "outputs": []
    },
    {
      "cell_type": "code",
      "metadata": {
        "id": "cvaeAdMhG1g6"
      },
      "source": [
        "# Set the parameters and instanciate the Wavefunction, Hamiltonian, and Metropolis classes \n",
        "sig_i = 1.0         # Gaussian width for sampling the initial configuration \n",
        "sig = 0.2           # Gaussian width for sampling the Metropolis Move\n",
        "neq = 20            # Equilibration steps\n",
        "nav = 2             # Averaging steps\n",
        "nvoid = 200         # Void steps between energy calculations\n",
        "nwalk = 100         # Quantum Monte Carlo configurations\n",
        "ndim = 3            # Spatial dimension  \n",
        "npart = 2           # Number of particles\n",
        "seed = 19.          # Seed to initialize the random-number generator\n",
        "alpha = 0.6         # Gaussian width of the HO wave function \n",
        "\n",
        "wavefunction = Wavefunction(ndim, npart)\n",
        "hamiltonian = Hamiltonian(ndim, npart, wavefunction)\n",
        "metropolis = Metropolis(nwalk, npart, ndim, neq, nav, nvoid, sig, sig_i, wavefunction)"
      ],
      "execution_count": 57,
      "outputs": []
    },
    {
      "cell_type": "code",
      "metadata": {
        "colab": {
          "base_uri": "https://localhost:8080/"
        },
        "id": "ditWt9kBUSmy",
        "outputId": "fe28e578-2327-4b6a-ed0b-cf3f4a41d6da"
      },
      "source": [
        "# Compute the expectation values by doing a Metropolis walk \n",
        "x_s, acc_s = metropolis.walk(alpha)\n",
        "ke, pe, en =  hamiltonian.energy(alpha, x_s)\n",
        "\n",
        "energy_average, energy_error = estimator(en)\n",
        "kinetic_average, kinetic_error = estimator(ke)\n",
        "potential_average, potential_error = estimator(pe)\n",
        "print(\"energy=\", energy_average, \"+-\", energy_error)\n",
        "print(\"kinetic energy=\", kinetic_average, \"+-\", kinetic_error)\n",
        "print(\"potential energy=\", potential_average, \"+-\", potential_error)"
      ],
      "execution_count": 58,
      "outputs": [
        {
          "output_type": "stream",
          "text": [
            "energy= 3.057361802250081 +- 0.020335564830849362\n",
            "kinetic energy= 1.824093171000264 +- 0.0665527576282346\n",
            "potential energy= 1.233268631249817 +- 0.046217192797385134\n"
          ],
          "name": "stdout"
        }
      ]
    },
    {
      "cell_type": "code",
      "metadata": {
        "id": "cXapIdjBbWKI"
      },
      "source": [
        "class Optimizer(object):\n",
        "    \"\"\"Class that computes the energy derivative \n",
        "    f_i = 2[< E_L O_i > - 2 < E_L > < O_i >]\n",
        "    and updates the parameters according to the SGD algorithm\n",
        "    \"\"\"\n",
        "    def __init__(self, ndim : int, npart : int, wavefunction : callable):\n",
        "       self.ndim = ndim\n",
        "       self.npart = npart\n",
        "       self.wavefunction = wavefunction\n",
        "\n",
        "# Computes the derivative of the wave function O_i\n",
        "    def jacobian (self, x):\n",
        "        jac = - np.sum(x**2, axis=(1,2))\n",
        "        return jac\n",
        "\n",
        "# Computes the gradient of the energy f_i = 2[ < E_L O_i > - 2 < E_L > < O_i > ]\n",
        "    def gradient (self, x, en):\n",
        "        jac = self.jacobian(x)\n",
        "        grad_energy = 2 * (np.mean(en * jac) - np.mean(en) * np.mean(jac))\n",
        "        return grad_energy"
      ],
      "execution_count": null,
      "outputs": []
    },
    {
      "cell_type": "code",
      "metadata": {
        "colab": {
          "base_uri": "https://localhost:8080/"
        },
        "id": "jj8tV4hCIkIy",
        "outputId": "d2cdf139-e059-4eb6-ea80-6532b7517937"
      },
      "source": [
        "# Compute the expectation values and the derivative of the energy \n",
        "alpha = 0.5\n",
        "optimizer = Optimizer(ndim, npart, wavefunction) \n",
        "x_s, acc_s = metropolis.walk(alpha)\n",
        "ke, pe, en =  hamiltonian.energy(alpha, x_s)\n",
        "\n",
        "energy_average, energy_error = estimator(en)\n",
        "kinetic_average, kinetic_error = estimator(ke)\n",
        "potential_average, potential_error = estimator(pe)\n",
        "energy_gradient = optimizer.gradient(x_s, en)\n",
        "print(\"energy=\", energy_average, \"+-\", energy_error)\n",
        "print(\"kinetic energy=\", kinetic_average, \"+-\", kinetic_error)\n",
        "print(\"potential energy=\", potential_average, \"+-\", potential_error)\n",
        "print(\"energy gradient=\", energy_gradient)"
      ],
      "execution_count": null,
      "outputs": [
        {
          "output_type": "stream",
          "text": [
            "energy= 3.0 +- 0.0\n",
            "kinetic energy= 1.461075874221766 +- 0.06609480916399997\n",
            "potential energy= 1.538924125778234 +- 0.06609480916399997\n",
            "energy gradient= 3.552713678800501e-15\n"
          ],
          "name": "stdout"
        }
      ]
    },
    {
      "cell_type": "code",
      "metadata": {
        "colab": {
          "base_uri": "https://localhost:8080/",
          "height": 537
        },
        "id": "YmlSycs7M7yk",
        "outputId": "43eec6ba-2bde-4ad9-c248-904c955e8de5"
      },
      "source": [
        "# Optimize with the simple SGD algorithm \n",
        "alpha = 1.2\n",
        "LR = 0.002\n",
        "\n",
        "# Define a figure here which we can update along the way:\n",
        "fig       = plt.figure(figsize=(16,9))\n",
        "# Create 2x2 sub plots\n",
        "\n",
        "gs = gridspec.GridSpec(2, 2)\n",
        "ax_loss   = plt.subplot(gs[:,0])\n",
        "ax_err    = plt.subplot(gs[:,1])\n",
        "\n",
        "steps_history = []\n",
        "energy_history  = []\n",
        "error_history = []\n",
        "for i in range (400):\n",
        "    x_s, acc_s = metropolis.walk(alpha)\n",
        "    ke, pe, en =  hamiltonian.energy(alpha, x_s) \n",
        "    energy_average, energy_error = estimator(en)\n",
        "    energy_gradient = optimizer.gradient(x_s, en)\n",
        "    alpha = alpha - LR * energy_gradient\n",
        "\n",
        "    steps_history.append(i)\n",
        "    energy_history.append(energy_average)\n",
        "    error_history.append(energy_error)\n",
        "\n",
        "    # Here we update the plots.  Show the energy function:\n",
        "    ax_loss.set_xlim(0, 1.1*i)\n",
        "    ax_loss.cla()\n",
        "    ax_loss.plot(steps_history, energy_history, label=\"Energy\")\n",
        "    ax_loss.grid(True)\n",
        "    ax_loss.legend(fontsize=25)\n",
        "\n",
        "    # Show the error function:\n",
        "    ax_err.set_xlim(0, 1.1*i)\n",
        "    ax_err.cla()\n",
        "    ax_err.plot(steps_history, error_history, label=\"Error\")\n",
        "    ax_err.grid(True)\n",
        "    ax_err.legend(fontsize=25)\n",
        "\n",
        "    display(fig)\n",
        "    clear_output(wait = True)\n",
        "    plt.pause(0.25)\n",
        "    \n",
        "\n",
        "\n"
      ],
      "execution_count": 48,
      "outputs": [
        {
          "output_type": "display_data",
          "data": {
            "image/png": "[encoded data removed]",
            "text/plain": [
              "<Figure size 1152x648 with 2 Axes>"
            ]
          },
          "metadata": {
            "tags": []
          }
        }
      ]
    }
  ]
}