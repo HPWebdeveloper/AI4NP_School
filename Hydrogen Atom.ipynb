{
 "cells": [
  {
   "cell_type": "markdown",
   "metadata": {},
   "source": [
    "[!Open in Collab](https://colab.research.google.com/github/coreyjadams/AI4NP_School/blob/main/Hydrogen Atom.ipynb)"
   ]
  },
  {
   "cell_type": "markdown",
   "metadata": {},
   "source": [
    "# Hydrogen Atom\n",
    "\n",
    "In the previous notebook, we solved the harmonic oscillator for 1 dimension using artifical neural networks.  In this notebook, we'll go a step further and solve a more complicated system (Hydrogen) in more dimensions (3 of course).  We will use more sophisticated sampling of the wavefunction and compute the proper $\\nabla^2$ operator. "
   ]
  },
  {
   "cell_type": "code",
   "execution_count": 1,
   "metadata": {},
   "outputs": [],
   "source": [
    "import tensorflow as tf\n",
    "import numpy\n",
    "\n",
    "# What numerical precision?\n",
    "# Note: float32 == single precision is OK for this notebook.  Higher order methods need float64 for a matrix inversion step.\n",
    "DEFAULT_TENSOR_TYPE = tf.float32\n",
    "\n",
    "# How many walkers should we use?\n",
    "N_WALKERS = 500\n",
    "# How many times should we make an observation of the observables each iteration?\n",
    "N_OBSERVATIONS = 30\n",
    "\n",
    "from matplotlib import pyplot as plt\n",
    "from mpl_toolkits import mplot3d\n",
    "%matplotlib inline\n",
    "\n",
    "import matplotlib.pyplot as plt\n",
    "import matplotlib.gridspec as gridspec\n",
    "from IPython.display import display, clear_output"
   ]
  },
  {
   "cell_type": "markdown",
   "metadata": {},
   "source": [
    "## Surrogate Wavefunction\n",
    "\n",
    "For the hydrogen atom, we'll use a simple surrogate wavefunction.\n",
    "\n",
    "NOTE that the wavefunction is a surrogate for $log \\psi$, so the multiplicative initial boundary condition is a sum."
   ]
  },
  {
   "cell_type": "code",
   "execution_count": 2,
   "metadata": {},
   "outputs": [],
   "source": [
    "import numpy\n",
    "import tensorflow as tf\n",
    "\n",
    "\n",
    "class NeuralWavefunction(tf.keras.models.Model):\n",
    "    \"\"\"Create a neural network eave function in N dimensions\n",
    "\n",
    "    Boundary condition, if not supplied, is gaussian in every dimension\n",
    "\n",
    "    Extends:\n",
    "        tf.keras.models.Model\n",
    "    \"\"\"\n",
    "    def __init__(self, ndim : int, initial_containment : float = -0.1):\n",
    "        tf.keras.models.Model.__init__(self)\n",
    "\n",
    "        self.ndim = ndim\n",
    "\n",
    "\n",
    "        self.layer1 = tf.keras.layers.Dense(16, use_bias=False)\n",
    "        self.layer2 = tf.keras.layers.Dense(24, use_bias=False)\n",
    "        self.layer3 = tf.keras.layers.Dense(1, use_bias=False)\n",
    "\n",
    "        self.containment = tf.Variable(initial_containment, trainable = True)\n",
    "        \n",
    "    @tf.function\n",
    "    def call(self, inputs):\n",
    "        # \n",
    "        # shape is [nwalkers, dim]\n",
    "        \n",
    "        x = self.layer1(inputs)\n",
    "        x = tf.keras.activations.softplus(x)\n",
    "        # WHat is softplus?  It's like ReLU at large absolute value, but is smooth through 0.0\n",
    "        \n",
    "        x = self.layer2(x)\n",
    "        x = tf.keras.activations.softplus(x)\n",
    "\n",
    "        # Just one output:\n",
    "        x = self.layer3(x)\n",
    "        # x = tf.keras.activations.tanh(x)\n",
    "\n",
    "        # Compute the initial boundary condition, which the network will slowly overcome\n",
    "        # This is important because it keeps the walkers bounded, otherwise they will not converge to a bound state.\n",
    "        r = tf.sqrt(tf.reduce_sum(inputs**2, axis=1))\n",
    "        # We use the exponential to map the countainment to positive-only values while having a smooth gradient\n",
    "        boundary_condition = -tf.exp(self.containment) * r\n",
    "        boundary_condition = tf.reshape(boundary_condition, [-1,1])\n",
    "\n",
    "    \n",
    "        return x + boundary_condition\n",
    "\n"
   ]
  },
  {
   "cell_type": "code",
   "execution_count": 3,
   "metadata": {},
   "outputs": [],
   "source": [
    "ground_state = NeuralWavefunction(3, initial_containment = 0.5)"
   ]
  },
  {
   "cell_type": "markdown",
   "metadata": {},
   "source": [
    "## Metropolis Sampling\n",
    "\n",
    "To sample the wave function, we'll use the metropolis algorithm.  We can implement this algorithm in tensorflow as shown below:"
   ]
  },
  {
   "cell_type": "code",
   "execution_count": 4,
   "metadata": {},
   "outputs": [],
   "source": [
    "\n",
    "class MetropolisSampler(object):\n",
    "    \"\"\"Metropolis Sampler in N dimension\n",
    "\n",
    "    Sample from N-D coordinates, using some initial probability distribution\n",
    "\n",
    "    Relies on functional calls to sample on the fly with flexible distributions\n",
    "    \"\"\"\n",
    "    def __init__(self,\n",
    "        n           : int,\n",
    "        nwalkers    : int,\n",
    "        initializer : callable,\n",
    "        init_params : iter ,\n",
    "        dtype       = tf.float64):\n",
    "        '''Initialize a metropolis sampler\n",
    "\n",
    "        Create a metropolis walker with `n` walkers.  Can use normal, uniform\n",
    "\n",
    "        Arguments:\n",
    "            n {int} -- Dimension\n",
    "            nwalkers {int} -- Number of unique walkers\n",
    "            initializer {callable} -- Function to call to initialize each walker\n",
    "            init_params {iter} -- Parameters to pass to the initializer, unrolled automatically\n",
    "        '''\n",
    "\n",
    "        # Set the dimension:\n",
    "        self.n = n\n",
    "\n",
    "        # Set the number of walkers:\n",
    "        self.nwalkers = nwalkers\n",
    "\n",
    "        self.size = (self.nwalkers, self.n)\n",
    "\n",
    "        self.dtype = dtype\n",
    "\n",
    "        #  Run the initalize to get the first locations:\n",
    "        self.walkers = initializer(shape=self.size, **init_params, dtype=dtype)\n",
    "\n",
    "    def sample(self):\n",
    "        '''Just return the current locations\n",
    "\n",
    "        '''\n",
    "        # Make sure to wrap in tf.Variable for back prop calculations\n",
    "        return  self.walkers\n",
    "\n",
    "    def kick(self,\n",
    "        wavefunction : tf.keras.models.Model,\n",
    "        kicker : callable,\n",
    "        kicker_params : iter,\n",
    "        nkicks : int ):\n",
    "        '''Wrapper for a compiled kick function via tensorflow.\n",
    "\n",
    "        This fills in the compiled function with the size and the walkers.\n",
    "\n",
    "        Arguments:\n",
    "            wavefunction {tf.keras.models.Model} -- The wavefunction used for the metropolis walk\n",
    "            kicker {callable} -- A callable function for generating kicks\n",
    "            kicker_params {iter} -- Arguments to the kicker function.\n",
    "        '''\n",
    "        # for i in range(nkicks):\n",
    "        walkers, acceptance = self.internal_kicker(\n",
    "            self.size, self.walkers, wavefunction, kicker, kicker_params, tf.constant(nkicks), dtype=self.dtype)\n",
    "\n",
    "        # Update the walkers:\n",
    "        self.walkers = walkers\n",
    "\n",
    "        # Send back the acceptance:\n",
    "        return acceptance\n",
    "\n",
    "    @tf.function\n",
    "    def internal_kicker(self,\n",
    "        _shape,\n",
    "        _walkers,\n",
    "        _wavefunction : tf.keras.models.Model,\n",
    "        _kicker : callable,\n",
    "        _kicker_params : iter,\n",
    "        _nkicks : tf.constant,\n",
    "        dtype):\n",
    "        \"\"\"Sample points in N-d Space\n",
    "\n",
    "        By default, samples points uniformly across all dimensions.\n",
    "        Returns a torch tensor on the chosen device with gradients enabled.\n",
    "\n",
    "        Keyword Arguments:\n",
    "            kicker {callable} -- Function to call to create a kick for each walker\n",
    "            kicker_params {iter} -- Parameters to pass to the kicker, unrolled automatically\n",
    "        \"\"\"\n",
    "\n",
    "\n",
    "        # We need to compute the wave function twice:\n",
    "        # Once for the original coordiate, and again for the kicked coordinates\n",
    "        acceptance = tf.convert_to_tensor(0.0, dtype=dtype)\n",
    "        # Calculate the current wavefunction value:\n",
    "        current_wavefunction = _wavefunction(_walkers)\n",
    "\n",
    "        # Generate a long set of random number from which we will pull:\n",
    "        random_numbers = tf.math.log(tf.random.uniform(shape = [_nkicks,_shape[0],1], dtype=dtype))\n",
    "\n",
    "        # Generate a long list of kicks:\n",
    "        # print(shape)\n",
    "        kicks = _kicker(shape=[_nkicks, *_shape], **_kicker_params, dtype=dtype)\n",
    "        # print(kicks.shape)\n",
    "\n",
    "        for i_kick in tf.range(_nkicks):\n",
    "            # Create a kick:\n",
    "            kick = kicks[i_kick]\n",
    "            # kick = kicker(shape=shape, **kicker_params, dtype=dtype)\n",
    "            kicked = _walkers + kick\n",
    "\n",
    "            # Compute the values of the wave function, which should be of shape\n",
    "            # [nwalkers, 1]\n",
    "            kicked_wavefunction   = _wavefunction(kicked)\n",
    "\n",
    "\n",
    "            # Probability is the ratio of kicked **2 to original\n",
    "            probability = 2 * (kicked_wavefunction - current_wavefunction)\n",
    "            # Acceptance is whether the probability for that walker is greater than\n",
    "            # a random number between [0, 1).\n",
    "            # Pull the random numbers and create a boolean array\n",
    "            # accept      = probability >  tf.random.uniform(shape=[shape[0],1])\n",
    "            accept      = probability >  random_numbers[i_kick]\n",
    "            # accept      = probability >  tf.math.log(tf.random.uniform(shape=[shape[0],1]))\n",
    "\n",
    "            # Grab the kicked wavefunction in the places it is new, to speed up metropolis:\n",
    "            current_wavefunction = tf.where(accept, kicked_wavefunction, current_wavefunction)\n",
    "\n",
    "            # We need to broadcast accept to match the right shape\n",
    "            # Needs to come out to the shape [nwalkers, nparticles, ndim]\n",
    "            accept = tf.tile(accept, [1,tf.reduce_prod(_shape[1:])])\n",
    "            accept = tf.reshape(accept, _shape)\n",
    "            _walkers = tf.where(accept, kicked, _walkers)\n",
    "\n",
    "            acceptance = tf.reduce_mean(tf.cast(accept, dtype))\n",
    "\n",
    "        return _walkers, acceptance"
   ]
  },
  {
   "cell_type": "markdown",
   "metadata": {},
   "source": [
    "Now that we have a surrogate model and a sampling tool, we can test things:"
   ]
  },
  {
   "cell_type": "code",
   "execution_count": 5,
   "metadata": {},
   "outputs": [],
   "source": [
    "sampler = MetropolisSampler(\n",
    "            n           = 3, # 3 dimensions\n",
    "            nwalkers    = N_WALKERS,\n",
    "            initializer = tf.random.normal,\n",
    "            init_params = {\"mean\": 0.0, \"stddev\" : 0.2},\n",
    "            dtype       = DEFAULT_TENSOR_TYPE\n",
    "    )"
   ]
  },
  {
   "cell_type": "code",
   "execution_count": 6,
   "metadata": {},
   "outputs": [],
   "source": [
    "ground_x = sampler.sample()"
   ]
  },
  {
   "cell_type": "markdown",
   "metadata": {},
   "source": [
    "If we look at X, we should see a 100 x 3 tensor.  Elements from the tensor should roughly follow a gaussian distribution since that's what we used to initialize it (mean 0, STD 0.2)"
   ]
  },
  {
   "cell_type": "code",
   "execution_count": 7,
   "metadata": {},
   "outputs": [
    {
     "name": "stdout",
     "output_type": "stream",
     "text": [
      "(500, 3)\n",
      "tf.Tensor(-0.004609759, shape=(), dtype=float32)\n",
      "tf.Tensor(0.19954656, shape=(), dtype=float32)\n"
     ]
    }
   ],
   "source": [
    "print(ground_x.shape)\n",
    "print(tf.reduce_mean(ground_x))\n",
    "print(tf.math.reduce_std(ground_x))"
   ]
  },
  {
   "cell_type": "markdown",
   "metadata": {},
   "source": [
    "Now we can print a summary of the network, too:"
   ]
  },
  {
   "cell_type": "code",
   "execution_count": 8,
   "metadata": {
    "scrolled": false
   },
   "outputs": [
    {
     "name": "stdout",
     "output_type": "stream",
     "text": [
      "Model: \"neural_wavefunction\"\n",
      "_________________________________________________________________\n",
      "Layer (type)                 Output Shape              Param #   \n",
      "=================================================================\n",
      "dense (Dense)                multiple                  48        \n",
      "_________________________________________________________________\n",
      "dense_1 (Dense)              multiple                  384       \n",
      "_________________________________________________________________\n",
      "dense_2 (Dense)              multiple                  24        \n",
      "=================================================================\n",
      "Total params: 457\n",
      "Trainable params: 457\n",
      "Non-trainable params: 0\n",
      "_________________________________________________________________\n",
      "(500, 1)\n"
     ]
    }
   ],
   "source": [
    "values = ground_state(ground_x)\n",
    "ground_state.summary()\n",
    "print(values.shape)"
   ]
  },
  {
   "cell_type": "markdown",
   "metadata": {},
   "source": [
    "Note: the sum of all printed parameters is one short than the total number of trainable parameters.  That's because the confinement is also a trainable parameter!"
   ]
  },
  {
   "cell_type": "markdown",
   "metadata": {},
   "source": [
    "## Thermalize the walkers\n",
    "\n",
    "To thermalize the walkers, we can \"kick\" them a number of times according to the metropolis algorithm:"
   ]
  },
  {
   "cell_type": "code",
   "execution_count": 9,
   "metadata": {
    "scrolled": false
   },
   "outputs": [
    {
     "name": "stdout",
     "output_type": "stream",
     "text": [
      "Acceptance:  tf.Tensor(0.64, shape=(), dtype=float32)\n"
     ]
    }
   ],
   "source": [
    "r_before_thermalization = tf.sqrt(tf.reduce_sum(sampler.sample()**2, axis=1)).numpy()\n",
    "acceptance = sampler.kick(\n",
    "    wavefunction  = ground_state ,\n",
    "    kicker        = tf.random.normal,\n",
    "    kicker_params = {\"mean\": 0.0, \"stddev\" : 0.3},\n",
    "    nkicks        = 5000 )\n",
    "# This gets the latest walkers\n",
    "ground_x = sampler.sample()\n",
    "print(\"Acceptance: \", acceptance)\n",
    "r_after_thermalization = tf.sqrt(tf.reduce_sum(sampler.sample()**2, axis=1)).numpy()"
   ]
  },
  {
   "cell_type": "code",
   "execution_count": 10,
   "metadata": {},
   "outputs": [
    {
     "name": "stdout",
     "output_type": "stream",
     "text": [
      "tf.Tensor(0.037664477, shape=(), dtype=float32)\n",
      "tf.Tensor(0.6208, shape=(), dtype=float32)\n"
     ]
    }
   ],
   "source": [
    "print(tf.reduce_mean(ground_x))\n",
    "print(tf.math.reduce_std(ground_x))"
   ]
  },
  {
   "cell_type": "code",
   "execution_count": 11,
   "metadata": {},
   "outputs": [
    {
     "name": "stdout",
     "output_type": "stream",
     "text": [
      "Mean r before thermalization: 0.3187\n",
      "Mean r after thermalization: 0.9393\n"
     ]
    },
    {
     "data": {
      "image/png": "[encoded data removed]",
      "text/plain": [
       "<Figure size 1152x648 with 1 Axes>"
      ]
     },
     "metadata": {
      "needs_background": "light"
     },
     "output_type": "display_data"
    }
   ],
   "source": [
    "bins = numpy.arange(0,10,0.5)\n",
    "\n",
    "print(f\"Mean r before thermalization: {tf.reduce_mean(r_before_thermalization):.4f}\")\n",
    "print(f\"Mean r after thermalization: {tf.reduce_mean(r_after_thermalization):.4f}\")\n",
    "\n",
    "before_hist, edges = numpy.histogram(r_before_thermalization, bins=bins)\n",
    "after_hist,  edges = numpy.histogram(r_after_thermalization, bins=bins)\n",
    "\n",
    "bin_centers = 0.5*(edges[1:] + edges[:-1])\n",
    "\n",
    "\n",
    "fig = plt.figure(figsize=(16,9))\n",
    "plt.plot(bin_centers, before_hist, marker=\"+\", label=\"Before Therm.\")\n",
    "plt.plot(bin_centers, after_hist, marker=\"o\", label=\"After Therm.\")\n",
    "plt.grid(True)\n",
    "plt.legend()\n",
    "plt.show()"
   ]
  },
  {
   "cell_type": "code",
   "execution_count": 12,
   "metadata": {},
   "outputs": [
    {
     "name": "stdout",
     "output_type": "stream",
     "text": [
      "tf.Tensor(0.64, shape=(), dtype=float32)\n"
     ]
    }
   ],
   "source": [
    "print(acceptance)"
   ]
  },
  {
   "cell_type": "markdown",
   "metadata": {},
   "source": [
    "## Hydrogen Atom Hamiltonian\n",
    "\n",
    "Here's an implementation of the hydrogen atom that computes observables:"
   ]
  },
  {
   "cell_type": "code",
   "execution_count": 13,
   "metadata": {},
   "outputs": [],
   "source": [
    "import tensorflow as tf\n",
    "import numpy\n",
    "\n",
    "import logging\n",
    "logger = logging.getLogger()\n",
    "\n",
    "\n",
    "class HydrogenAtom(object):\n",
    "    \"\"\"Harmonic Oscillator Potential\n",
    "\n",
    "    Implementation of the quantum harmonic oscillator hamiltonian\n",
    "    \"\"\"\n",
    "\n",
    "    def __init__(self):\n",
    "        ''' Initialize the Hamiltonian\n",
    "\n",
    "        The derived class will check parameters, but this converts all of them to floats\n",
    "        and scores as TF Constants.\n",
    "\n",
    "        '''\n",
    "        object.__init__(self)\n",
    "        self.parameters = {\"mass\" : 1.0}\n",
    "        # Cast them all to tf constants:\n",
    "        for key in self.parameters:\n",
    "            self.parameters[key] = tf.constant(float(self.parameters[key]),dtype=DEFAULT_TENSOR_TYPE)\n",
    "\n",
    "        self.HBAR = tf.constant(1.0, dtype = DEFAULT_TENSOR_TYPE)\n",
    "        self.ELECTRON_CHARGE = tf.constant(1.0, dtype = DEFAULT_TENSOR_TYPE)\n",
    "\n",
    "\n",
    "    @tf.function\n",
    "    def energy(self, wavefunction : tf.keras.models.Model, inputs : tf.Tensor):\n",
    "        \"\"\"Compute the expectation value of energy of the supplied wavefunction.\n",
    "\n",
    "        Computes the integral of the wavefunction in this potential\n",
    "\n",
    "        Arguments:\n",
    "            wavefunction {Wavefunction model} -- Callable wavefunction object\n",
    "            inputs {tf.Tensor} -- Tensor of shape [nwalkers, nparticles, dimension]\n",
    "\n",
    "        Returns:\n",
    "            tf.tensor - energy of shape [n_walkers]\n",
    "            tf.tensor - energy_jf of shape [n_walkers]\n",
    "            tf.tensor - ke_jf of shape [n_walkers]\n",
    "            tf.tensor - ke_direct of shape [n_walkers]\n",
    "            tf.tensor - pe of shape [n_walkers]\n",
    "        \"\"\"\n",
    "\n",
    "\n",
    "        # This function takes the inputs\n",
    "        # And computes the expectation value of the energy at each input point\n",
    "\n",
    "        logw_of_x, dlogw_dx, d2logw_dx2 = self.compute_derivatives(wavefunction, inputs)\n",
    "\n",
    "        pe, ke_jf, ke_direct = self.compute_energies(inputs, logw_of_x, dlogw_dx, d2logw_dx2)\n",
    "\n",
    "        # Total energy computations:\n",
    "        energy = tf.squeeze(pe+ke_direct)\n",
    "        energy_jf = tf.squeeze(pe+ke_jf)\n",
    "\n",
    "        return energy, energy_jf, ke_jf, ke_direct, pe\n",
    "\n",
    "    \n",
    "    @tf.function\n",
    "    def compute_derivatives(self, wavefunction : tf.keras.models.Model, inputs : tf.Tensor):\n",
    "\n",
    "\n",
    "        # Turning off all tape watching except for the inputs:\n",
    "        # Using the outer-most tape to watch the computation of the first derivative:\n",
    "        with tf.GradientTape(persistent=True) as tape:\n",
    "            # Use the inner tape to watch the computation of the wavefunction:\n",
    "            tape.watch(inputs)\n",
    "            with tf.GradientTape() as second_tape:\n",
    "                second_tape.watch(inputs)\n",
    "                logw_of_x = wavefunction(inputs, training=True)\n",
    "            # Get the derivative of logw_of_x with respect to inputs\n",
    "            dlogw_dx = second_tape.gradient(logw_of_x, inputs)\n",
    "\n",
    "        # Get the derivative of dlogw_dx with respect to inputs (aka second derivative)\n",
    "\n",
    "        # We have to extract the diagonal of the jacobian, which comes out with shape\n",
    "        # [nwalkers, dimension, dimension]\n",
    "\n",
    "        # This is the full hessian computation:\n",
    "        d2logw_dx2 = tape.batch_jacobian(dlogw_dx, inputs)\n",
    "\n",
    "        \n",
    "        # And this contracts:\n",
    "        d2logw_dx2 = tf.einsum(\"wdd->wd\",d2logw_dx2)\n",
    "\n",
    "        return logw_of_x, dlogw_dx, d2logw_dx2\n",
    "    \n",
    "    @tf.function\n",
    "    def potential_energy(self, *, inputs, Z):\n",
    "        \"\"\"Return potential energy\n",
    "\n",
    "        If the potential energy is already computed, and no arguments are supplied,\n",
    "        return the cached value\n",
    "\n",
    "        If all arguments are supplied, calculate and return the PE.\n",
    "\n",
    "        Otherwise, exception\n",
    "\n",
    "        Arguments:\n",
    "            inputs {tf.tensor} -- Tensor of shape [N, nparticles, dimension]\n",
    "            Z {tf.tensor} -- Atomic number\n",
    "\n",
    "        Returns:\n",
    "            torch.Tensor - potential energy of shape [1]\n",
    "        \"\"\"\n",
    "\n",
    "        # Potential energy is, for n particles, two pieces:\n",
    "        # Compute r_i, where r_i = sqrt(sum(x_i^2, y_i^2, z_i^2)) (in 3D)\n",
    "        # PE_1 = -(Z e^2)/(4 pi eps_0) * sum_i (1/r_i)\n",
    "        # Compute r\n",
    "        # Square the coordinates and sum for each walker\n",
    "        r = tf.math.sqrt(tf.reduce_sum(inputs**2, axis=1))\n",
    "        # This is the sum of 1/r for all particles with the nucleus:\n",
    "        pe_1 = - (Z * self.ELECTRON_CHARGE**2 ) *  1. / (r + 1e-8)\n",
    "\n",
    "        return pe_1\n",
    "    \n",
    "    @tf.function\n",
    "    def kinetic_energy_jf(self, *, dlogw_dx, M):\n",
    "        \"\"\"Return Kinetic energy\n",
    "\n",
    "        Calculate and return the KE directly\n",
    "\n",
    "        Otherwise, exception\n",
    "\n",
    "        Arguments:\n",
    "            dlogw_of_x/dx {tf.Tensor} -- Computed derivative of the wavefunction\n",
    "\n",
    "        Returns:\n",
    "            tf.Tensor - kinetic energy (JF) of shape [1]\n",
    "        \"\"\"\n",
    "        # < x | KE | psi > / < x | psi > =  1 / 2m [ < x | p | psi > / < x | psi >\n",
    "\n",
    "        # Contract d2_w_dx over spatial dimensions and particles:\n",
    "        ke_jf = (self.HBAR**2 / (2 * M)) * tf.reduce_sum(dlogw_dx**2, axis=(1))\n",
    "\n",
    "        return ke_jf\n",
    "\n",
    "    @tf.function\n",
    "    def kinetic_energy(self, *, KE_JF : tf.Tensor, d2logw_dx2 : tf.Tensor, M):\n",
    "        \"\"\"Return Kinetic energy\n",
    "\n",
    "\n",
    "        If all arguments are supplied, calculate and return the KE.\n",
    "\n",
    "        Arguments:\n",
    "            d2logw_dx2 {tf.Tensor} -- Computed second derivative of the wavefunction\n",
    "            KE_JF {tf.Tensor} -- JF computation of the kinetic energy\n",
    "\n",
    "        Returns:\n",
    "            tf.Tensor - potential energy of shape [1]\n",
    "        \"\"\"\n",
    "\n",
    "        ke = -(self.HBAR**2 / (2 * M)) * tf.reduce_sum(d2logw_dx2, axis=(1))\n",
    "        ke = ke  - KE_JF\n",
    "\n",
    "        return ke\n",
    "\n",
    "\n",
    "    \n",
    "\n",
    "    @tf.function\n",
    "    def compute_energies(self, inputs, logw_of_x, dlogw_dx, d2logw_dx2):\n",
    "        '''Compute PE, KE_JF, and KE_direct\n",
    "\n",
    "        Harmonic Oscillator Energy Calculations\n",
    "\n",
    "        Arguments:\n",
    "            inputs {[type]} -- walker coordinates (shape is [nwalkers, nparticles, dimension])\n",
    "            logw_of_x {[type]} -- computed wave function at each walker\n",
    "            dlogw_dx {[type]} -- first derivative of wavefunction at each walker\n",
    "            d2logw_dx2 {[type]} -- second derivative of wavefunction at each walker\n",
    "\n",
    "        Raises:\n",
    "            NotImplementedError -- [description]\n",
    "\n",
    "        Returns:\n",
    "            pe -- potential energy\n",
    "            ke_jf -- JF Kinetic energy\n",
    "            ke_direct -- 2nd deriv computation of potential energy\n",
    "        '''\n",
    "\n",
    "        # Potential energy depends only on the wavefunction\n",
    "        pe = self.potential_energy(inputs=inputs, Z=1)\n",
    "\n",
    "        # KE by parts needs only one derivative\n",
    "        ke_jf = self.kinetic_energy_jf(dlogw_dx=dlogw_dx, M=self.parameters[\"mass\"])\n",
    "\n",
    "        # True, directly, uses the second derivative\n",
    "        ke_direct = self.kinetic_energy(KE_JF = ke_jf, d2logw_dx2 = d2logw_dx2, M=self.parameters[\"mass\"])\n",
    "\n",
    "\n",
    "        return pe, ke_jf, ke_direct\n",
    "\n"
   ]
  },
  {
   "cell_type": "code",
   "execution_count": 14,
   "metadata": {},
   "outputs": [],
   "source": [
    "hamiltonian = HydrogenAtom()"
   ]
  },
  {
   "cell_type": "code",
   "execution_count": 15,
   "metadata": {
    "scrolled": false
   },
   "outputs": [],
   "source": [
    "energy, energy_jf, ke_jf, ke_direct, pe = hamiltonian.energy(ground_state, ground_x)"
   ]
  },
  {
   "cell_type": "code",
   "execution_count": 16,
   "metadata": {},
   "outputs": [
    {
     "name": "stdout",
     "output_type": "stream",
     "text": [
      "tf.Tensor(-0.30272645, shape=(), dtype=float32)\n"
     ]
    }
   ],
   "source": [
    "print(tf.reduce_mean(energy))"
   ]
  },
  {
   "cell_type": "markdown",
   "metadata": {},
   "source": [
    "In the units we're using (atomic units) the value of the hydrogen ground state comes out to -0.5.  So, this is good: the energy is above the ground state for our random wavefunction which is good!"
   ]
  },
  {
   "cell_type": "markdown",
   "metadata": {},
   "source": [
    "## Optimizing the wavefunction"
   ]
  },
  {
   "cell_type": "markdown",
   "metadata": {},
   "source": [
    "To optimize the wavefunction, we'll need to compute several observables based on the jacobian.  Here are some functions to help contained within a `compute_gradients` function."
   ]
  },
  {
   "cell_type": "code",
   "execution_count": 17,
   "metadata": {},
   "outputs": [],
   "source": [
    "def compute_gradients(N_OBSERVATIONS, _sampler, _wavefunction, _hamiltonian):\n",
    "\n",
    "    # Helper function to compute jacobians:\n",
    "    @tf.function\n",
    "    def jacobian(j_x_current, j_wavefunction):\n",
    "        tape = tf.GradientTape()\n",
    "\n",
    "        with tape:\n",
    "            tape.watch(j_wavefunction.trainable_variables)\n",
    "            log_wpsi = j_wavefunction(j_x_current)\n",
    "\n",
    "    #     print(log_wpsi)\n",
    "\n",
    "\n",
    "        jac = tape.jacobian(log_wpsi, j_wavefunction.trainable_variables)\n",
    "\n",
    "    #     print(wavefunction.trainable_variables)\n",
    "    #     print(jac)\n",
    "\n",
    "        # Grab the original shapes ([1:] means everything except first dim):\n",
    "        jac_shape = [j.shape[1:] for j in jac]\n",
    "        # get the flattened shapes:\n",
    "        flat_shape = [[-1, tf.reduce_prod(js)] for js in jac_shape]\n",
    "        # Reshape the\n",
    "\n",
    "        # We have the flat shapes and now we need to make the jacobian into a single matrix\n",
    "\n",
    "        flattened_jacobian = [tf.reshape(j, f) for j, f in zip(jac, flat_shape)]\n",
    "\n",
    "        flattened_jacobian = tf.concat(flattened_jacobian, axis=-1)\n",
    "\n",
    "        return flattened_jacobian, flat_shape\n",
    "\n",
    "\n",
    "    # Helper function to compute observables:\n",
    "    @tf.function\n",
    "    def compute_O_observables(flattened_jacobian, energy):\n",
    "\n",
    "        # dspi_i is the reduction of the jacobian over all walkers.\n",
    "        # In other words, it's the mean gradient of the parameters with respect to inputs.\n",
    "        # This is effectively the measurement of O^i in the paper.\n",
    "        dpsi_i = tf.reduce_mean(flattened_jacobian, axis=0)\n",
    "        dpsi_i = tf.reshape(dpsi_i, [-1,1])\n",
    "\n",
    "        # To compute <O^m O^n>\n",
    "        dpsi_ij = tf.linalg.matmul(flattened_jacobian, flattened_jacobian, transpose_a = True) / N_WALKERS\n",
    "        \n",
    "        # Computing <O^m H>:\n",
    "        dpsi_i_EL = tf.linalg.matmul(tf.reshape(energy, [1,N_WALKERS]), flattened_jacobian)\n",
    "        # This makes this the same shape as the other tensors\n",
    "        dpsi_i_EL = tf.reshape(dpsi_i_EL, [-1, 1])\n",
    "\n",
    "        return dpsi_i, dpsi_i_EL, dpsi_ij\n",
    "\n",
    "    \n",
    "#     @tf.function(experimental_relax_shapes=True)\n",
    "    def compute_SR_gradients(crs_energy, csr_dpsi_i, csr_dpsi_i_EL, csr_dpsi_ij):\n",
    "        \n",
    "        eps = 0.001\n",
    "        npt = csr_dpsi_i.shape[0]\n",
    "    \n",
    "        # These are the first order gradients:\n",
    "        gradients = tf.cast(( csr_dpsi_i * crs_energy - csr_dpsi_i_EL ), tf.float64)\n",
    "\n",
    "        # For the matrix inversion, we want to use higher precision:\n",
    "        S_ij = tf.cast(csr_dpsi_ij - csr_dpsi_i * tf.transpose(csr_dpsi_i), tf.float64)\n",
    "        \n",
    "        # We loop until the inversion comes out positive definite:\n",
    "        i = 0\n",
    "        while True:\n",
    "            S_ij_d = S_ij + 2**i * eps * tf.eye(npt, dtype=tf.float64)\n",
    "            i += 1\n",
    "            try:\n",
    "                U_ij = tf.linalg.cholesky(S_ij_d)\n",
    "                positive_definite = True\n",
    "            except:\n",
    "                positive_definite = False\n",
    "                print(f\"Cholesky solve did not find a positive definite matrix on attempt {i}!\")\n",
    "            \n",
    "            if positive_definite:\n",
    "                gradients = tf.linalg.cholesky_solve(U_ij, gradients)\n",
    "                \n",
    "                break\n",
    "                \n",
    "        return tf.cast(gradients, tf.float32)\n",
    "    \n",
    "    # Places to accumulate observables:\n",
    "    dpsi_i    = None\n",
    "    dpsi_i_EL = None\n",
    "    dpsi_ij   = None\n",
    "    obs_energy = 0\n",
    "    \n",
    "    for i_obs in range(N_OBSERVATIONS):\n",
    "    \n",
    "        # First, we kick the sampler to re-thermalize to the new wavefunction:\n",
    "        kicker = tf.random.normal\n",
    "        kicker_params = {\"mean\": 0.0, \"stddev\" : 0.4}\n",
    "\n",
    "        acceptance = _sampler.kick(_wavefunction, kicker, kicker_params, nkicks=100)\n",
    "\n",
    "\n",
    "        # Get the current walker locations:\n",
    "        x_current  = _sampler.sample()\n",
    "\n",
    "        # Compute the observables:\n",
    "        energy, energy_jf, ke_jf, ke_direct, pe = hamiltonian.energy(_wavefunction, x_current)\n",
    "\n",
    "        energy /= N_WALKERS\n",
    "\n",
    "\n",
    "        # For each observation, we compute the jacobian.\n",
    "        # flattened_jacobian is a list, flat_shape is just one instance\n",
    "        flattened_jacobian, flat_shape = jacobian(x_current, _wavefunction)\n",
    "\n",
    "        _dpsi_i, _dpsi_i_EL, _dpsi_ij = compute_O_observables(flattened_jacobian, energy)\n",
    "        if dpsi_i is None:\n",
    "            dpsi_i = _dpsi_i\n",
    "        else:\n",
    "            dpsi_i += _dpsi_i\n",
    "            \n",
    "        if dpsi_i_EL is None:\n",
    "            dpsi_i_EL = _dpsi_i_EL\n",
    "        else:\n",
    "            dpsi_i_EL += _dpsi_i_EL\n",
    "\n",
    "        if dpsi_ij is None:\n",
    "            dpsi_ij = _dpsi_ij\n",
    "        else:\n",
    "            dpsi_ij += _dpsi_ij\n",
    "\n",
    "        obs_energy += tf.reduce_sum(energy)\n",
    "        \n",
    "    obs_energy /= N_OBSERVATIONS\n",
    "    dpsi_i     /= N_OBSERVATIONS\n",
    "    dpsi_i_EL  /= N_OBSERVATIONS\n",
    "    dpsi_ij    /= N_OBSERVATIONS\n",
    "    \n",
    "    \n",
    "    gradients = compute_SR_gradients(obs_energy, dpsi_i, dpsi_i_EL, dpsi_ij)\n",
    "    \n",
    "\n",
    "    # Lastly, reshape the gradients to match the weights:\n",
    "    running_index = 0\n",
    "    gradient = []\n",
    "    for length in flat_shape:\n",
    "        l = length[-1]\n",
    "        end_index = running_index + l\n",
    "        gradient.append(gradients[running_index:end_index])\n",
    "        running_index += l\n",
    "    \n",
    "    shapes = [ p.shape for p in _wavefunction.trainable_variables ]\n",
    "    gradients = [ tf.reshape(g, s) for g, s in zip(gradient, shapes)]\n",
    "    return gradients, obs_energy"
   ]
  },
  {
   "cell_type": "code",
   "execution_count": 18,
   "metadata": {},
   "outputs": [],
   "source": [
    "# optimizer = tf.keras.optimizers.Adam()\n",
    "energy_history = []\n",
    "steps_history  = []\n",
    "LEARNING_RATE  = 0.01"
   ]
  },
  {
   "cell_type": "markdown",
   "metadata": {},
   "source": [
    "## Optimization Loop"
   ]
  },
  {
   "cell_type": "code",
   "execution_count": 19,
   "metadata": {
    "scrolled": false
   },
   "outputs": [
    {
     "data": {
      "image/png": "[encoded data removed]",
      "text/plain": [
       "<Figure size 1152x648 with 2 Axes>"
      ]
     },
     "metadata": {
      "needs_background": "light"
     },
     "output_type": "display_data"
    }
   ],
   "source": [
    "\n",
    "\n",
    "\n",
    "# Define a figure here which we can update along the way:\n",
    "fig       = plt.figure(figsize=(16,9))\n",
    "# Create 2x2 sub plots\n",
    "gs = gridspec.GridSpec(2, 2)\n",
    "ax_loss   = plt.subplot(gs[:,0])\n",
    "ax_denst  = plt.subplot(gs[:,1], projection=\"3d\")\n",
    "\n",
    "\n",
    "\n",
    "for i in range(250):\n",
    "    \n",
    "    gradients, energy = compute_gradients(N_OBSERVATIONS, sampler, ground_state, hamiltonian)\n",
    "    \n",
    "    # Scale by the learning rate\n",
    "    gradients = [LEARNING_RATE * g for g in gradients ]\n",
    "        \n",
    "    for i_param in range(len(ground_state.trainable_variables)):\n",
    "        ground_state.trainable_variables[i_param].assign_add(gradients[i_param])\n",
    "\n",
    "    \n",
    "    energy_history.append(energy)\n",
    "    steps_history.append(i)\n",
    "\n",
    "    # Here we update the plots.  Show the energy function:\n",
    "    ax_loss.set_xlim(0, 1.1*i)\n",
    "    ax_loss.cla()\n",
    "    ax_loss.plot(steps_history, energy_history, label=\"Energy\")\n",
    "    ax_loss.grid(True)\n",
    "    ax_loss.legend(fontsize=25)\n",
    "\n",
    "    # Show the location of the walkers:\n",
    "    x, y, z = tf.split(sampler.sample(), 3, axis=1)\n",
    "    ax_denst.clear()\n",
    "    ax_denst.set_xlim(-4,4); ax_denst.set_ylim(-4,4); ax_denst.set_zlim(-4,4);\n",
    "    ax_denst.set_xlabel(\"X\"); ax_denst.set_ylabel(\"Y\"); ax_denst.set_zlabel(\"Z\");\n",
    "    ax_denst.scatter(x, y, z, linewidth=0.5);\n",
    "\n",
    "    display(fig)\n",
    "    clear_output(wait = True)\n",
    "#     plt.pause(0.25)\n",
    "    \n",
    "    "
   ]
  },
  {
   "cell_type": "markdown",
   "metadata": {},
   "source": []
  },
  {
   "cell_type": "code",
   "execution_count": null,
   "metadata": {},
   "outputs": [],
   "source": []
  },
  {
   "cell_type": "code",
   "execution_count": 18,
   "metadata": {},
   "outputs": [],
   "source": [
    "# Want to save your model?  Use this syntax\n",
    "# tf.keras.models.save_model(ground_state, \"HydrogenGroundState\")"
   ]
  },
  {
   "cell_type": "markdown",
   "metadata": {},
   "source": [
    "This can take a while to converge.  If you are running on, say, a CPU or just don't want to wait, you can access my pretrained model:"
   ]
  },
  {
   "cell_type": "code",
   "execution_count": 19,
   "metadata": {},
   "outputs": [
    {
     "name": "stdout",
     "output_type": "stream",
     "text": [
      "WARNING:tensorflow:No training configuration found in save file, so the model was *not* compiled. Compile it manually.\n",
      "tf.Tensor(-0.4997347, shape=(), dtype=float32)\n"
     ]
    }
   ],
   "source": [
    "ground_state = tf.keras.models.load_model(\"saved_models/HydrogenGroundState\")\n",
    "kicker = tf.random.normal\n",
    "kicker_params = {\"mean\": 0.0, \"stddev\" : 0.4}\n",
    "\n",
    "acceptance = sampler.kick(ground_state, kicker, kicker_params, nkicks=2000)\n",
    "x = sampler.sample()\n",
    "energy, energy_jf, ke_jf, ke_direct, pe = hamiltonian.energy(ground_state, x)\n",
    "print(tf.reduce_mean(energy))"
   ]
  },
  {
   "cell_type": "code",
   "execution_count": 20,
   "metadata": {},
   "outputs": [
    {
     "name": "stdout",
     "output_type": "stream",
     "text": [
      "<tf.Variable 'Variable:0' shape=() dtype=float32, numpy=0.011789099>\n"
     ]
    }
   ],
   "source": [
    "print(ground_state.containment) # (If you load my model, this should be 0.011789099)"
   ]
  },
  {
   "cell_type": "markdown",
   "metadata": {},
   "source": [
    "### Where are the walkers?"
   ]
  },
  {
   "cell_type": "markdown",
   "metadata": {},
   "source": [
    "Now that we've trained the wavefunction, where are the walkers?"
   ]
  },
  {
   "cell_type": "code",
   "execution_count": 21,
   "metadata": {},
   "outputs": [
    {
     "name": "stdout",
     "output_type": "stream",
     "text": [
      "Mean r for the ground state: 0.9393\n"
     ]
    },
    {
     "data": {
      "image/png": "[encoded data removed]",
      "text/plain": [
       "<Figure size 1152x648 with 1 Axes>"
      ]
     },
     "metadata": {
      "needs_background": "light"
     },
     "output_type": "display_data"
    }
   ],
   "source": [
    "r_ground  = tf.sqrt(tf.reduce_sum(ground_x**2, axis=1))\n",
    "\n",
    "print(f\"Mean r for the ground state: {tf.reduce_mean(r_ground):.4f}\")\n",
    "\n",
    "bins = numpy.arange(0,15,0.5)\n",
    "\n",
    "ground_hist,  edges = numpy.histogram(r_ground, bins=bins)\n",
    "\n",
    "bin_centers = 0.5*(edges[1:] + edges[:-1])\n",
    "\n",
    "\n",
    "fig = plt.figure(figsize=(16,9))\n",
    "plt.scatter(bin_centers, ground_hist, marker=\"+\", label=\"Ground State\")\n",
    "plt.grid(True)\n",
    "plt.legend()\n",
    "plt.show()"
   ]
  },
  {
   "cell_type": "markdown",
   "metadata": {},
   "source": [
    "## Computing Observables"
   ]
  },
  {
   "cell_type": "markdown",
   "metadata": {},
   "source": [
    "If you look online ([here](http://farside.ph.utexas.edu/teaching/qmech/Quantum/node82.html) for example) there are many resources that tell you about the hydrogen atom's observable values.  $<r>$ for example should be equal to $\\frac{a_0}{2} [ 3 n^2 - l(l+1)]$.  We don't have any angular momentum in the ground state, and the value of $a_0$ in our units is 1.0.  So, $<r>$ should be 1.5"
   ]
  },
  {
   "cell_type": "code",
   "execution_count": 22,
   "metadata": {},
   "outputs": [
    {
     "name": "stdout",
     "output_type": "stream",
     "text": [
      "Expectation of radius is: 1.543 +/ 0.015\n"
     ]
    }
   ],
   "source": [
    "r_accum = 0.0\n",
    "r2_accum = 0.0\n",
    "\n",
    "kicker = tf.random.normal\n",
    "kicker_params = {\"mean\": 0.0, \"stddev\" : 0.4}\n",
    "\n",
    "for i in range(N_OBSERVATIONS):\n",
    "    acceptance = sampler.kick(ground_state, kicker, kicker_params, nkicks=200)\n",
    "    ground_x = sampler.sample()\n",
    "    \n",
    "    r2 = tf.reduce_sum(ground_x**2, axis=1)\n",
    "    r2_accum += tf.reduce_sum(r2)\n",
    "    r_ground  = tf.sqrt(r2)\n",
    "    r_accum  += tf.reduce_sum(r_ground)\n",
    "\n",
    "    \n",
    "n_walkers = ground_x.shape[0]\n",
    "r_accum /= N_OBSERVATIONS*n_walkers\n",
    "r_err = 1/(N_OBSERVATIONS*n_walkers - 1) * tf.sqrt(r2_accum - r_accum**2)\n",
    "print(f\"Expectation of radius is: {r_accum:.3f} +/ {r_err:.3f}\")"
   ]
  },
  {
   "cell_type": "markdown",
   "metadata": {},
   "source": [
    "On the other side, $<1/r>$ should be equal to 1.0 in our units:"
   ]
  },
  {
   "cell_type": "code",
   "execution_count": 23,
   "metadata": {},
   "outputs": [
    {
     "name": "stdout",
     "output_type": "stream",
     "text": [
      "Expectation of 1/radius is: 0.986 +/- 0.011\n"
     ]
    }
   ],
   "source": [
    "r_accum = 0.0\n",
    "r2_accum = 0.0\n",
    "\n",
    "kicker = tf.random.normal\n",
    "kicker_params = {\"mean\": 0.0, \"stddev\" : 0.4}\n",
    "\n",
    "\n",
    "for i in range(N_OBSERVATIONS):\n",
    "    acceptance = sampler.kick(ground_state, kicker, kicker_params, nkicks=200)\n",
    "    ground_x = sampler.sample()\n",
    "    \n",
    "    r2 = 1. / tf.reduce_sum(ground_x**2, axis=1)\n",
    "    r2_accum += tf.reduce_sum(r2)\n",
    "    \n",
    "    r_ground  = tf.sqrt(r2)\n",
    "    r_accum += tf.reduce_sum(r_ground)\n",
    "    \n",
    "n_walkers = ground_x.shape[0]\n",
    "r_accum /= N_OBSERVATIONS*n_walkers\n",
    "r_err = 1/(N_OBSERVATIONS*n_walkers - 1) * tf.sqrt(r2_accum - r_accum**2)\n",
    "\n",
    "print(f\"Expectation of 1/radius is: {r_accum:.3f} +/- {r_err:.3f}\")"
   ]
  },
  {
   "cell_type": "markdown",
   "metadata": {},
   "source": [
    "## Angular momentum\n",
    "\n",
    "The angular momentum operator $L_z$ has good quantum numbers, so let's compute it's expectation value for the ground state.  Remember, here, we parametrize the log of the wavefunction ($log(\\psi)$).  Note that:\n",
    "\n",
    "### $\\frac{\\partial}{\\partial x} log(\\psi) == \\frac{1}{\\psi} \\frac{\\partial \\psi}{\\partial x}$\n",
    "\n",
    "and\n",
    "\n",
    "### $L_z = -i \\hbar (x \\frac{\\partial \\psi}{\\partial y} - y \\frac{\\partial \\psi}{\\partial x}) $\n",
    "\n",
    "To compute the observable, we sum: \n",
    "\n",
    "### $<L_z> = \\sum \\frac{L_z}{\\psi}  = -i \\hbar \\sum \\left( x \\frac{1}{\\psi} \\frac{\\partial \\psi}{\\partial y} -  y  \\frac{1}{\\psi} \\frac{\\partial \\psi}{\\partial x} \\right)$\n",
    "\n",
    "or, using the first equation above:\n",
    "\n",
    "### $<L_z> = -i \\hbar \\sum \\left( x \\frac{\\partial}{\\partial y} log(\\psi) - y \\frac{\\partial}{\\partial x} log(\\psi) \\right) $\n",
    "\n",
    "We can compute the z component of angular momentum, then, in units of $-i \\hbar$:"
   ]
  },
  {
   "cell_type": "code",
   "execution_count": 24,
   "metadata": {},
   "outputs": [
    {
     "name": "stdout",
     "output_type": "stream",
     "text": [
      "Expectation of L_z is: -i * hbar * 0.0003 +/- 0.0002\n",
      "Expectation of L^2 is: -i * hbar * 0.0255 +/- 0.0003\n"
     ]
    }
   ],
   "source": [
    "lz_accum = 0.0\n",
    "lz2_accum = 0.0\n",
    "\n",
    "l2_accum = 0.0\n",
    "l22_accum = 0.0\n",
    "\n",
    "kicker = tf.random.normal\n",
    "kicker_params = {\"mean\": 0.0, \"stddev\" : 0.4}\n",
    "\n",
    "for i in range(N_OBSERVATIONS):\n",
    "    \n",
    "    acceptance = sampler.kick(ground_state, kicker, kicker_params, nkicks=200)\n",
    "    ground_x = sampler.sample()\n",
    "    \n",
    "\n",
    "    logw_of_x, dlogw_dx, d2logw_dx2 = hamiltonian.compute_derivatives(ground_state,ground_x)\n",
    "\n",
    "#     print(ground_x.shape)\n",
    "    \n",
    "    lx = ground_x[:,1]*dlogw_dx[:,2] - ground_x[:,2] * dlogw_dx[:,1]\n",
    "    ly = ground_x[:,2]*dlogw_dx[:,0] - ground_x[:,0] * dlogw_dx[:,2]\n",
    "    lz = ground_x[:,0]*dlogw_dx[:,1] - ground_x[:,1] * dlogw_dx[:,0]\n",
    "    \n",
    "    lz_accum  += tf.reduce_sum(lz)\n",
    "    lz2_accum += tf.reduce_sum(lz**2)\n",
    "\n",
    "    \n",
    "    l2 = tf.sqrt(lx**2 + ly**2 + lz**2)\n",
    "    l2_accum += tf.reduce_sum(l2)\n",
    "    l22_accum += tf.reduce_sum(l2**2)\n",
    "n_walkers = ground_x.shape[0]\n",
    "    \n",
    "lz_accum /= N_OBSERVATIONS*n_walkers\n",
    "lz_err = 1/(N_OBSERVATIONS*n_walkers - 1) * tf.sqrt(lz2_accum - lz_accum**2)\n",
    "\n",
    "print(f\"Expectation of L_z is: -i * hbar * {lz_accum:.4f} +/- {lz_err:.4f}\")\n",
    "\n",
    "l2_accum /= N_OBSERVATIONS*n_walkers\n",
    "l2_err = 1/(N_OBSERVATIONS*n_walkers - 1) * tf.sqrt(l22_accum - l2_accum**2)\n",
    "\n",
    "print(f\"Expectation of L^2 is: -i * hbar * {l2_accum:.4f} +/- {l2_err:.4f}\")\n",
    "\n"
   ]
  },
  {
   "cell_type": "markdown",
   "metadata": {},
   "source": []
  },
  {
   "cell_type": "code",
   "execution_count": null,
   "metadata": {},
   "outputs": [],
   "source": []
  }
 ],
 "metadata": {
  "kernelspec": {
   "display_name": "Python 3",
   "language": "python",
   "name": "python3"
  },
  "language_info": {
   "codemirror_mode": {
    "name": "ipython",
    "version": 3
   },
   "file_extension": ".py",
   "mimetype": "text/x-python",
   "name": "python",
   "nbconvert_exporter": "python",
   "pygments_lexer": "ipython3",
   "version": "3.6.10"
  }
 },
 "nbformat": 4,
 "nbformat_minor": 2
}
